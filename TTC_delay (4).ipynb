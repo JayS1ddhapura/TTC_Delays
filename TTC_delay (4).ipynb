{
 "cells": [
  {
   "cell_type": "markdown",
   "id": "2cf3eebb",
   "metadata": {},
   "source": [
    "## Importing neccessary library"
   ]
  },
  {
   "cell_type": "code",
   "execution_count": 1,
   "id": "7c1ccba3",
   "metadata": {},
   "outputs": [],
   "source": [
    "import numpy as np \n",
    "import pandas as pd \n",
    "import seaborn as sns\n",
    "import matplotlib.pyplot as plt\n",
    "sns.set()"
   ]
  },
  {
   "cell_type": "markdown",
   "id": "3227bb4a",
   "metadata": {},
   "source": [
    "## Importing Data"
   ]
  },
  {
   "cell_type": "code",
   "execution_count": 2,
   "id": "3952b08a",
   "metadata": {},
   "outputs": [],
   "source": [
    "df = pd.read_csv(\"ttc-bus-delay-data-2022.csv\")"
   ]
  },
  {
   "cell_type": "code",
   "execution_count": 3,
   "id": "f723c40f",
   "metadata": {},
   "outputs": [
    {
     "data": {
      "text/plain": [
       "(27351, 10)"
      ]
     },
     "execution_count": 3,
     "metadata": {},
     "output_type": "execute_result"
    }
   ],
   "source": [
    "df.shape"
   ]
  },
  {
   "cell_type": "code",
   "execution_count": 4,
   "id": "31136702",
   "metadata": {},
   "outputs": [
    {
     "data": {
      "text/html": [
       "<div>\n",
       "<style scoped>\n",
       "    .dataframe tbody tr th:only-of-type {\n",
       "        vertical-align: middle;\n",
       "    }\n",
       "\n",
       "    .dataframe tbody tr th {\n",
       "        vertical-align: top;\n",
       "    }\n",
       "\n",
       "    .dataframe thead th {\n",
       "        text-align: right;\n",
       "    }\n",
       "</style>\n",
       "<table border=\"1\" class=\"dataframe\">\n",
       "  <thead>\n",
       "    <tr style=\"text-align: right;\">\n",
       "      <th></th>\n",
       "      <th>Date</th>\n",
       "      <th>Route</th>\n",
       "      <th>Time</th>\n",
       "      <th>Day</th>\n",
       "      <th>Location</th>\n",
       "      <th>Incident</th>\n",
       "      <th>Min Delay</th>\n",
       "      <th>Min Gap</th>\n",
       "      <th>Direction</th>\n",
       "      <th>Vehicle</th>\n",
       "    </tr>\n",
       "  </thead>\n",
       "  <tbody>\n",
       "    <tr>\n",
       "      <th>0</th>\n",
       "      <td>1-Jan-22</td>\n",
       "      <td>320</td>\n",
       "      <td>02:00</td>\n",
       "      <td>Saturday</td>\n",
       "      <td>YONGE AND DUNDAS</td>\n",
       "      <td>General Delay</td>\n",
       "      <td>0</td>\n",
       "      <td>0</td>\n",
       "      <td>NaN</td>\n",
       "      <td>8531</td>\n",
       "    </tr>\n",
       "    <tr>\n",
       "      <th>1</th>\n",
       "      <td>1-Jan-22</td>\n",
       "      <td>325</td>\n",
       "      <td>02:00</td>\n",
       "      <td>Saturday</td>\n",
       "      <td>OVERLEA AND THORCLIFFE</td>\n",
       "      <td>Diversion</td>\n",
       "      <td>131</td>\n",
       "      <td>161</td>\n",
       "      <td>W</td>\n",
       "      <td>8658</td>\n",
       "    </tr>\n",
       "    <tr>\n",
       "      <th>2</th>\n",
       "      <td>1-Jan-22</td>\n",
       "      <td>320</td>\n",
       "      <td>02:00</td>\n",
       "      <td>Saturday</td>\n",
       "      <td>YONGE AND STEELES</td>\n",
       "      <td>Operations - Operator</td>\n",
       "      <td>17</td>\n",
       "      <td>20</td>\n",
       "      <td>S</td>\n",
       "      <td>0</td>\n",
       "    </tr>\n",
       "    <tr>\n",
       "      <th>3</th>\n",
       "      <td>1-Jan-22</td>\n",
       "      <td>320</td>\n",
       "      <td>02:07</td>\n",
       "      <td>Saturday</td>\n",
       "      <td>YONGE AND STEELES</td>\n",
       "      <td>Operations - Operator</td>\n",
       "      <td>4</td>\n",
       "      <td>11</td>\n",
       "      <td>S</td>\n",
       "      <td>0</td>\n",
       "    </tr>\n",
       "    <tr>\n",
       "      <th>4</th>\n",
       "      <td>1-Jan-22</td>\n",
       "      <td>320</td>\n",
       "      <td>02:13</td>\n",
       "      <td>Saturday</td>\n",
       "      <td>YONGE AND STEELES</td>\n",
       "      <td>Operations - Operator</td>\n",
       "      <td>4</td>\n",
       "      <td>8</td>\n",
       "      <td>S</td>\n",
       "      <td>0</td>\n",
       "    </tr>\n",
       "    <tr>\n",
       "      <th>5</th>\n",
       "      <td>1-Jan-22</td>\n",
       "      <td>363</td>\n",
       "      <td>02:16</td>\n",
       "      <td>Saturday</td>\n",
       "      <td>KING AND SHAW</td>\n",
       "      <td>Operations - Operator</td>\n",
       "      <td>30</td>\n",
       "      <td>60</td>\n",
       "      <td>NaN</td>\n",
       "      <td>0</td>\n",
       "    </tr>\n",
       "    <tr>\n",
       "      <th>6</th>\n",
       "      <td>1-Jan-22</td>\n",
       "      <td>96</td>\n",
       "      <td>02:18</td>\n",
       "      <td>Saturday</td>\n",
       "      <td>HUMBERLINE LOOP</td>\n",
       "      <td>Security</td>\n",
       "      <td>0</td>\n",
       "      <td>0</td>\n",
       "      <td>N</td>\n",
       "      <td>3536</td>\n",
       "    </tr>\n",
       "    <tr>\n",
       "      <th>7</th>\n",
       "      <td>1-Jan-22</td>\n",
       "      <td>320</td>\n",
       "      <td>02:38</td>\n",
       "      <td>Saturday</td>\n",
       "      <td>STEELES AND YONGE</td>\n",
       "      <td>Operations - Operator</td>\n",
       "      <td>4</td>\n",
       "      <td>8</td>\n",
       "      <td>NaN</td>\n",
       "      <td>0</td>\n",
       "    </tr>\n",
       "    <tr>\n",
       "      <th>8</th>\n",
       "      <td>1-Jan-22</td>\n",
       "      <td>320</td>\n",
       "      <td>02:55</td>\n",
       "      <td>Saturday</td>\n",
       "      <td>YONGE AND STEELES</td>\n",
       "      <td>Operations - Operator</td>\n",
       "      <td>4</td>\n",
       "      <td>8</td>\n",
       "      <td>NaN</td>\n",
       "      <td>0</td>\n",
       "    </tr>\n",
       "    <tr>\n",
       "      <th>9</th>\n",
       "      <td>1-Jan-22</td>\n",
       "      <td>300</td>\n",
       "      <td>03:18</td>\n",
       "      <td>Saturday</td>\n",
       "      <td>KENNEDY STATION</td>\n",
       "      <td>Emergency Services</td>\n",
       "      <td>0</td>\n",
       "      <td>0</td>\n",
       "      <td>E</td>\n",
       "      <td>8094</td>\n",
       "    </tr>\n",
       "  </tbody>\n",
       "</table>\n",
       "</div>"
      ],
      "text/plain": [
       "       Date Route   Time       Day                Location  \\\n",
       "0  1-Jan-22   320  02:00  Saturday        YONGE AND DUNDAS   \n",
       "1  1-Jan-22   325  02:00  Saturday  OVERLEA AND THORCLIFFE   \n",
       "2  1-Jan-22   320  02:00  Saturday       YONGE AND STEELES   \n",
       "3  1-Jan-22   320  02:07  Saturday       YONGE AND STEELES   \n",
       "4  1-Jan-22   320  02:13  Saturday       YONGE AND STEELES   \n",
       "5  1-Jan-22   363  02:16  Saturday           KING AND SHAW   \n",
       "6  1-Jan-22    96  02:18  Saturday         HUMBERLINE LOOP   \n",
       "7  1-Jan-22   320  02:38  Saturday       STEELES AND YONGE   \n",
       "8  1-Jan-22   320  02:55  Saturday       YONGE AND STEELES   \n",
       "9  1-Jan-22   300  03:18  Saturday         KENNEDY STATION   \n",
       "\n",
       "                Incident  Min Delay  Min Gap Direction  Vehicle  \n",
       "0          General Delay          0        0       NaN     8531  \n",
       "1              Diversion        131      161         W     8658  \n",
       "2  Operations - Operator         17       20         S        0  \n",
       "3  Operations - Operator          4       11         S        0  \n",
       "4  Operations - Operator          4        8         S        0  \n",
       "5  Operations - Operator         30       60       NaN        0  \n",
       "6               Security          0        0         N     3536  \n",
       "7  Operations - Operator          4        8       NaN        0  \n",
       "8  Operations - Operator          4        8       NaN        0  \n",
       "9     Emergency Services          0        0         E     8094  "
      ]
     },
     "execution_count": 4,
     "metadata": {},
     "output_type": "execute_result"
    }
   ],
   "source": [
    "df.head(10)"
   ]
  },
  {
   "cell_type": "code",
   "execution_count": 5,
   "id": "b43697b4",
   "metadata": {},
   "outputs": [
    {
     "data": {
      "text/plain": [
       "Date            0\n",
       "Route         164\n",
       "Time            0\n",
       "Day             0\n",
       "Location        0\n",
       "Incident        0\n",
       "Min Delay       0\n",
       "Min Gap         0\n",
       "Direction    5577\n",
       "Vehicle         0\n",
       "dtype: int64"
      ]
     },
     "execution_count": 5,
     "metadata": {},
     "output_type": "execute_result"
    }
   ],
   "source": [
    "df.isnull().sum()"
   ]
  },
  {
   "cell_type": "code",
   "execution_count": 6,
   "id": "443c4546",
   "metadata": {},
   "outputs": [
    {
     "data": {
      "text/html": [
       "<div>\n",
       "<style scoped>\n",
       "    .dataframe tbody tr th:only-of-type {\n",
       "        vertical-align: middle;\n",
       "    }\n",
       "\n",
       "    .dataframe tbody tr th {\n",
       "        vertical-align: top;\n",
       "    }\n",
       "\n",
       "    .dataframe thead th {\n",
       "        text-align: right;\n",
       "    }\n",
       "</style>\n",
       "<table border=\"1\" class=\"dataframe\">\n",
       "  <thead>\n",
       "    <tr style=\"text-align: right;\">\n",
       "      <th></th>\n",
       "      <th>Date</th>\n",
       "      <th>Route</th>\n",
       "      <th>Time</th>\n",
       "      <th>Day</th>\n",
       "      <th>Location</th>\n",
       "      <th>Incident</th>\n",
       "      <th>Min Delay</th>\n",
       "      <th>Min Gap</th>\n",
       "      <th>Vehicle</th>\n",
       "    </tr>\n",
       "  </thead>\n",
       "  <tbody>\n",
       "    <tr>\n",
       "      <th>0</th>\n",
       "      <td>1-Jan-22</td>\n",
       "      <td>320</td>\n",
       "      <td>02:00</td>\n",
       "      <td>Saturday</td>\n",
       "      <td>YONGE AND DUNDAS</td>\n",
       "      <td>General Delay</td>\n",
       "      <td>0</td>\n",
       "      <td>0</td>\n",
       "      <td>8531</td>\n",
       "    </tr>\n",
       "    <tr>\n",
       "      <th>1</th>\n",
       "      <td>1-Jan-22</td>\n",
       "      <td>325</td>\n",
       "      <td>02:00</td>\n",
       "      <td>Saturday</td>\n",
       "      <td>OVERLEA AND THORCLIFFE</td>\n",
       "      <td>Diversion</td>\n",
       "      <td>131</td>\n",
       "      <td>161</td>\n",
       "      <td>8658</td>\n",
       "    </tr>\n",
       "    <tr>\n",
       "      <th>2</th>\n",
       "      <td>1-Jan-22</td>\n",
       "      <td>320</td>\n",
       "      <td>02:00</td>\n",
       "      <td>Saturday</td>\n",
       "      <td>YONGE AND STEELES</td>\n",
       "      <td>Operations - Operator</td>\n",
       "      <td>17</td>\n",
       "      <td>20</td>\n",
       "      <td>0</td>\n",
       "    </tr>\n",
       "    <tr>\n",
       "      <th>3</th>\n",
       "      <td>1-Jan-22</td>\n",
       "      <td>320</td>\n",
       "      <td>02:07</td>\n",
       "      <td>Saturday</td>\n",
       "      <td>YONGE AND STEELES</td>\n",
       "      <td>Operations - Operator</td>\n",
       "      <td>4</td>\n",
       "      <td>11</td>\n",
       "      <td>0</td>\n",
       "    </tr>\n",
       "    <tr>\n",
       "      <th>4</th>\n",
       "      <td>1-Jan-22</td>\n",
       "      <td>320</td>\n",
       "      <td>02:13</td>\n",
       "      <td>Saturday</td>\n",
       "      <td>YONGE AND STEELES</td>\n",
       "      <td>Operations - Operator</td>\n",
       "      <td>4</td>\n",
       "      <td>8</td>\n",
       "      <td>0</td>\n",
       "    </tr>\n",
       "    <tr>\n",
       "      <th>5</th>\n",
       "      <td>1-Jan-22</td>\n",
       "      <td>363</td>\n",
       "      <td>02:16</td>\n",
       "      <td>Saturday</td>\n",
       "      <td>KING AND SHAW</td>\n",
       "      <td>Operations - Operator</td>\n",
       "      <td>30</td>\n",
       "      <td>60</td>\n",
       "      <td>0</td>\n",
       "    </tr>\n",
       "    <tr>\n",
       "      <th>6</th>\n",
       "      <td>1-Jan-22</td>\n",
       "      <td>96</td>\n",
       "      <td>02:18</td>\n",
       "      <td>Saturday</td>\n",
       "      <td>HUMBERLINE LOOP</td>\n",
       "      <td>Security</td>\n",
       "      <td>0</td>\n",
       "      <td>0</td>\n",
       "      <td>3536</td>\n",
       "    </tr>\n",
       "    <tr>\n",
       "      <th>7</th>\n",
       "      <td>1-Jan-22</td>\n",
       "      <td>320</td>\n",
       "      <td>02:38</td>\n",
       "      <td>Saturday</td>\n",
       "      <td>STEELES AND YONGE</td>\n",
       "      <td>Operations - Operator</td>\n",
       "      <td>4</td>\n",
       "      <td>8</td>\n",
       "      <td>0</td>\n",
       "    </tr>\n",
       "    <tr>\n",
       "      <th>8</th>\n",
       "      <td>1-Jan-22</td>\n",
       "      <td>320</td>\n",
       "      <td>02:55</td>\n",
       "      <td>Saturday</td>\n",
       "      <td>YONGE AND STEELES</td>\n",
       "      <td>Operations - Operator</td>\n",
       "      <td>4</td>\n",
       "      <td>8</td>\n",
       "      <td>0</td>\n",
       "    </tr>\n",
       "    <tr>\n",
       "      <th>9</th>\n",
       "      <td>1-Jan-22</td>\n",
       "      <td>300</td>\n",
       "      <td>03:18</td>\n",
       "      <td>Saturday</td>\n",
       "      <td>KENNEDY STATION</td>\n",
       "      <td>Emergency Services</td>\n",
       "      <td>0</td>\n",
       "      <td>0</td>\n",
       "      <td>8094</td>\n",
       "    </tr>\n",
       "  </tbody>\n",
       "</table>\n",
       "</div>"
      ],
      "text/plain": [
       "       Date Route   Time       Day                Location  \\\n",
       "0  1-Jan-22   320  02:00  Saturday        YONGE AND DUNDAS   \n",
       "1  1-Jan-22   325  02:00  Saturday  OVERLEA AND THORCLIFFE   \n",
       "2  1-Jan-22   320  02:00  Saturday       YONGE AND STEELES   \n",
       "3  1-Jan-22   320  02:07  Saturday       YONGE AND STEELES   \n",
       "4  1-Jan-22   320  02:13  Saturday       YONGE AND STEELES   \n",
       "5  1-Jan-22   363  02:16  Saturday           KING AND SHAW   \n",
       "6  1-Jan-22    96  02:18  Saturday         HUMBERLINE LOOP   \n",
       "7  1-Jan-22   320  02:38  Saturday       STEELES AND YONGE   \n",
       "8  1-Jan-22   320  02:55  Saturday       YONGE AND STEELES   \n",
       "9  1-Jan-22   300  03:18  Saturday         KENNEDY STATION   \n",
       "\n",
       "                Incident  Min Delay  Min Gap  Vehicle  \n",
       "0          General Delay          0        0     8531  \n",
       "1              Diversion        131      161     8658  \n",
       "2  Operations - Operator         17       20        0  \n",
       "3  Operations - Operator          4       11        0  \n",
       "4  Operations - Operator          4        8        0  \n",
       "5  Operations - Operator         30       60        0  \n",
       "6               Security          0        0     3536  \n",
       "7  Operations - Operator          4        8        0  \n",
       "8  Operations - Operator          4        8        0  \n",
       "9     Emergency Services          0        0     8094  "
      ]
     },
     "execution_count": 6,
     "metadata": {},
     "output_type": "execute_result"
    }
   ],
   "source": [
    "df = df.drop(['Direction'],axis=1)\n",
    "df.head(10)"
   ]
  },
  {
   "cell_type": "markdown",
   "id": "eaa2512c",
   "metadata": {},
   "source": [
    "The Direction Column has many Null values, it is not possible to fill this column and also with respect to the route column we do not need the Direction. But these kind of decisions in most cases depend on our data and what do we need to extract from our data."
   ]
  },
  {
   "cell_type": "code",
   "execution_count": 7,
   "id": "5791db1b",
   "metadata": {},
   "outputs": [
    {
     "name": "stdout",
     "output_type": "stream",
     "text": [
      "<class 'pandas.core.frame.DataFrame'>\n",
      "RangeIndex: 27351 entries, 0 to 27350\n",
      "Data columns (total 9 columns):\n",
      " #   Column     Non-Null Count  Dtype \n",
      "---  ------     --------------  ----- \n",
      " 0   Date       27351 non-null  object\n",
      " 1   Route      27187 non-null  object\n",
      " 2   Time       27351 non-null  object\n",
      " 3   Day        27351 non-null  object\n",
      " 4   Location   27351 non-null  object\n",
      " 5   Incident   27351 non-null  object\n",
      " 6   Min Delay  27351 non-null  int64 \n",
      " 7   Min Gap    27351 non-null  int64 \n",
      " 8   Vehicle    27351 non-null  int64 \n",
      "dtypes: int64(3), object(6)\n",
      "memory usage: 1.9+ MB\n"
     ]
    }
   ],
   "source": [
    "df.info()"
   ]
  },
  {
   "cell_type": "code",
   "execution_count": 8,
   "id": "aefd5309",
   "metadata": {},
   "outputs": [
    {
     "data": {
      "text/plain": [
       "Date           0\n",
       "Route        164\n",
       "Time           0\n",
       "Day            0\n",
       "Location       0\n",
       "Incident       0\n",
       "Min Delay      0\n",
       "Min Gap        0\n",
       "Vehicle        0\n",
       "dtype: int64"
      ]
     },
     "execution_count": 8,
     "metadata": {},
     "output_type": "execute_result"
    }
   ],
   "source": [
    "df.isnull().sum()"
   ]
  },
  {
   "cell_type": "code",
   "execution_count": 9,
   "id": "9e3a934b",
   "metadata": {},
   "outputs": [
    {
     "data": {
      "text/plain": [
       "Date         0\n",
       "Route        0\n",
       "Time         0\n",
       "Day          0\n",
       "Location     0\n",
       "Incident     0\n",
       "Min Delay    0\n",
       "Min Gap      0\n",
       "Vehicle      0\n",
       "dtype: int64"
      ]
     },
     "execution_count": 9,
     "metadata": {},
     "output_type": "execute_result"
    }
   ],
   "source": [
    "df = df.dropna()\n",
    "df.isnull().sum()"
   ]
  },
  {
   "cell_type": "code",
   "execution_count": 10,
   "id": "f43fabe0",
   "metadata": {},
   "outputs": [],
   "source": [
    "df['year'] = pd.DatetimeIndex(df['Date']).year\n",
    "df['month'] = pd.DatetimeIndex(df['Date']).month\n",
    "df['date'] = pd.DatetimeIndex(df['Date']).date"
   ]
  },
  {
   "cell_type": "markdown",
   "id": "2ca55f3c",
   "metadata": {},
   "source": [
    "lets extract the date, year and month from the \"Date\" feature to simplyfy things!"
   ]
  },
  {
   "cell_type": "code",
   "execution_count": 11,
   "id": "a459e9a9",
   "metadata": {},
   "outputs": [
    {
     "data": {
      "text/html": [
       "<div>\n",
       "<style scoped>\n",
       "    .dataframe tbody tr th:only-of-type {\n",
       "        vertical-align: middle;\n",
       "    }\n",
       "\n",
       "    .dataframe tbody tr th {\n",
       "        vertical-align: top;\n",
       "    }\n",
       "\n",
       "    .dataframe thead th {\n",
       "        text-align: right;\n",
       "    }\n",
       "</style>\n",
       "<table border=\"1\" class=\"dataframe\">\n",
       "  <thead>\n",
       "    <tr style=\"text-align: right;\">\n",
       "      <th></th>\n",
       "      <th>Date</th>\n",
       "      <th>Route</th>\n",
       "      <th>Time</th>\n",
       "      <th>Day</th>\n",
       "      <th>Location</th>\n",
       "      <th>Incident</th>\n",
       "      <th>Min Delay</th>\n",
       "      <th>Min Gap</th>\n",
       "      <th>Vehicle</th>\n",
       "      <th>year</th>\n",
       "      <th>month</th>\n",
       "      <th>date</th>\n",
       "    </tr>\n",
       "  </thead>\n",
       "  <tbody>\n",
       "    <tr>\n",
       "      <th>0</th>\n",
       "      <td>1-Jan-22</td>\n",
       "      <td>320</td>\n",
       "      <td>02:00</td>\n",
       "      <td>Saturday</td>\n",
       "      <td>YONGE AND DUNDAS</td>\n",
       "      <td>General Delay</td>\n",
       "      <td>0</td>\n",
       "      <td>0</td>\n",
       "      <td>8531</td>\n",
       "      <td>2022</td>\n",
       "      <td>1</td>\n",
       "      <td>2022-01-01</td>\n",
       "    </tr>\n",
       "    <tr>\n",
       "      <th>1</th>\n",
       "      <td>1-Jan-22</td>\n",
       "      <td>325</td>\n",
       "      <td>02:00</td>\n",
       "      <td>Saturday</td>\n",
       "      <td>OVERLEA AND THORCLIFFE</td>\n",
       "      <td>Diversion</td>\n",
       "      <td>131</td>\n",
       "      <td>161</td>\n",
       "      <td>8658</td>\n",
       "      <td>2022</td>\n",
       "      <td>1</td>\n",
       "      <td>2022-01-01</td>\n",
       "    </tr>\n",
       "    <tr>\n",
       "      <th>2</th>\n",
       "      <td>1-Jan-22</td>\n",
       "      <td>320</td>\n",
       "      <td>02:00</td>\n",
       "      <td>Saturday</td>\n",
       "      <td>YONGE AND STEELES</td>\n",
       "      <td>Operations - Operator</td>\n",
       "      <td>17</td>\n",
       "      <td>20</td>\n",
       "      <td>0</td>\n",
       "      <td>2022</td>\n",
       "      <td>1</td>\n",
       "      <td>2022-01-01</td>\n",
       "    </tr>\n",
       "    <tr>\n",
       "      <th>3</th>\n",
       "      <td>1-Jan-22</td>\n",
       "      <td>320</td>\n",
       "      <td>02:07</td>\n",
       "      <td>Saturday</td>\n",
       "      <td>YONGE AND STEELES</td>\n",
       "      <td>Operations - Operator</td>\n",
       "      <td>4</td>\n",
       "      <td>11</td>\n",
       "      <td>0</td>\n",
       "      <td>2022</td>\n",
       "      <td>1</td>\n",
       "      <td>2022-01-01</td>\n",
       "    </tr>\n",
       "    <tr>\n",
       "      <th>4</th>\n",
       "      <td>1-Jan-22</td>\n",
       "      <td>320</td>\n",
       "      <td>02:13</td>\n",
       "      <td>Saturday</td>\n",
       "      <td>YONGE AND STEELES</td>\n",
       "      <td>Operations - Operator</td>\n",
       "      <td>4</td>\n",
       "      <td>8</td>\n",
       "      <td>0</td>\n",
       "      <td>2022</td>\n",
       "      <td>1</td>\n",
       "      <td>2022-01-01</td>\n",
       "    </tr>\n",
       "    <tr>\n",
       "      <th>5</th>\n",
       "      <td>1-Jan-22</td>\n",
       "      <td>363</td>\n",
       "      <td>02:16</td>\n",
       "      <td>Saturday</td>\n",
       "      <td>KING AND SHAW</td>\n",
       "      <td>Operations - Operator</td>\n",
       "      <td>30</td>\n",
       "      <td>60</td>\n",
       "      <td>0</td>\n",
       "      <td>2022</td>\n",
       "      <td>1</td>\n",
       "      <td>2022-01-01</td>\n",
       "    </tr>\n",
       "    <tr>\n",
       "      <th>6</th>\n",
       "      <td>1-Jan-22</td>\n",
       "      <td>96</td>\n",
       "      <td>02:18</td>\n",
       "      <td>Saturday</td>\n",
       "      <td>HUMBERLINE LOOP</td>\n",
       "      <td>Security</td>\n",
       "      <td>0</td>\n",
       "      <td>0</td>\n",
       "      <td>3536</td>\n",
       "      <td>2022</td>\n",
       "      <td>1</td>\n",
       "      <td>2022-01-01</td>\n",
       "    </tr>\n",
       "    <tr>\n",
       "      <th>7</th>\n",
       "      <td>1-Jan-22</td>\n",
       "      <td>320</td>\n",
       "      <td>02:38</td>\n",
       "      <td>Saturday</td>\n",
       "      <td>STEELES AND YONGE</td>\n",
       "      <td>Operations - Operator</td>\n",
       "      <td>4</td>\n",
       "      <td>8</td>\n",
       "      <td>0</td>\n",
       "      <td>2022</td>\n",
       "      <td>1</td>\n",
       "      <td>2022-01-01</td>\n",
       "    </tr>\n",
       "    <tr>\n",
       "      <th>8</th>\n",
       "      <td>1-Jan-22</td>\n",
       "      <td>320</td>\n",
       "      <td>02:55</td>\n",
       "      <td>Saturday</td>\n",
       "      <td>YONGE AND STEELES</td>\n",
       "      <td>Operations - Operator</td>\n",
       "      <td>4</td>\n",
       "      <td>8</td>\n",
       "      <td>0</td>\n",
       "      <td>2022</td>\n",
       "      <td>1</td>\n",
       "      <td>2022-01-01</td>\n",
       "    </tr>\n",
       "    <tr>\n",
       "      <th>9</th>\n",
       "      <td>1-Jan-22</td>\n",
       "      <td>300</td>\n",
       "      <td>03:18</td>\n",
       "      <td>Saturday</td>\n",
       "      <td>KENNEDY STATION</td>\n",
       "      <td>Emergency Services</td>\n",
       "      <td>0</td>\n",
       "      <td>0</td>\n",
       "      <td>8094</td>\n",
       "      <td>2022</td>\n",
       "      <td>1</td>\n",
       "      <td>2022-01-01</td>\n",
       "    </tr>\n",
       "  </tbody>\n",
       "</table>\n",
       "</div>"
      ],
      "text/plain": [
       "       Date Route   Time       Day                Location  \\\n",
       "0  1-Jan-22   320  02:00  Saturday        YONGE AND DUNDAS   \n",
       "1  1-Jan-22   325  02:00  Saturday  OVERLEA AND THORCLIFFE   \n",
       "2  1-Jan-22   320  02:00  Saturday       YONGE AND STEELES   \n",
       "3  1-Jan-22   320  02:07  Saturday       YONGE AND STEELES   \n",
       "4  1-Jan-22   320  02:13  Saturday       YONGE AND STEELES   \n",
       "5  1-Jan-22   363  02:16  Saturday           KING AND SHAW   \n",
       "6  1-Jan-22    96  02:18  Saturday         HUMBERLINE LOOP   \n",
       "7  1-Jan-22   320  02:38  Saturday       STEELES AND YONGE   \n",
       "8  1-Jan-22   320  02:55  Saturday       YONGE AND STEELES   \n",
       "9  1-Jan-22   300  03:18  Saturday         KENNEDY STATION   \n",
       "\n",
       "                Incident  Min Delay  Min Gap  Vehicle  year  month        date  \n",
       "0          General Delay          0        0     8531  2022      1  2022-01-01  \n",
       "1              Diversion        131      161     8658  2022      1  2022-01-01  \n",
       "2  Operations - Operator         17       20        0  2022      1  2022-01-01  \n",
       "3  Operations - Operator          4       11        0  2022      1  2022-01-01  \n",
       "4  Operations - Operator          4        8        0  2022      1  2022-01-01  \n",
       "5  Operations - Operator         30       60        0  2022      1  2022-01-01  \n",
       "6               Security          0        0     3536  2022      1  2022-01-01  \n",
       "7  Operations - Operator          4        8        0  2022      1  2022-01-01  \n",
       "8  Operations - Operator          4        8        0  2022      1  2022-01-01  \n",
       "9     Emergency Services          0        0     8094  2022      1  2022-01-01  "
      ]
     },
     "execution_count": 11,
     "metadata": {},
     "output_type": "execute_result"
    }
   ],
   "source": [
    "df.head(10)"
   ]
  },
  {
   "cell_type": "code",
   "execution_count": 12,
   "id": "07b35c6e",
   "metadata": {},
   "outputs": [],
   "source": [
    "df[\"dates\"] = pd.to_datetime(df.date, format=\"%Y/%m/%d\").dt.day"
   ]
  },
  {
   "cell_type": "code",
   "execution_count": 13,
   "id": "7de61023",
   "metadata": {},
   "outputs": [
    {
     "data": {
      "text/html": [
       "<div>\n",
       "<style scoped>\n",
       "    .dataframe tbody tr th:only-of-type {\n",
       "        vertical-align: middle;\n",
       "    }\n",
       "\n",
       "    .dataframe tbody tr th {\n",
       "        vertical-align: top;\n",
       "    }\n",
       "\n",
       "    .dataframe thead th {\n",
       "        text-align: right;\n",
       "    }\n",
       "</style>\n",
       "<table border=\"1\" class=\"dataframe\">\n",
       "  <thead>\n",
       "    <tr style=\"text-align: right;\">\n",
       "      <th></th>\n",
       "      <th>Route</th>\n",
       "      <th>Time</th>\n",
       "      <th>Day</th>\n",
       "      <th>Location</th>\n",
       "      <th>Incident</th>\n",
       "      <th>Min Delay</th>\n",
       "      <th>Min Gap</th>\n",
       "      <th>Vehicle</th>\n",
       "      <th>year</th>\n",
       "      <th>month</th>\n",
       "      <th>dates</th>\n",
       "    </tr>\n",
       "  </thead>\n",
       "  <tbody>\n",
       "    <tr>\n",
       "      <th>0</th>\n",
       "      <td>320</td>\n",
       "      <td>02:00</td>\n",
       "      <td>Saturday</td>\n",
       "      <td>YONGE AND DUNDAS</td>\n",
       "      <td>General Delay</td>\n",
       "      <td>0</td>\n",
       "      <td>0</td>\n",
       "      <td>8531</td>\n",
       "      <td>2022</td>\n",
       "      <td>1</td>\n",
       "      <td>1</td>\n",
       "    </tr>\n",
       "    <tr>\n",
       "      <th>1</th>\n",
       "      <td>325</td>\n",
       "      <td>02:00</td>\n",
       "      <td>Saturday</td>\n",
       "      <td>OVERLEA AND THORCLIFFE</td>\n",
       "      <td>Diversion</td>\n",
       "      <td>131</td>\n",
       "      <td>161</td>\n",
       "      <td>8658</td>\n",
       "      <td>2022</td>\n",
       "      <td>1</td>\n",
       "      <td>1</td>\n",
       "    </tr>\n",
       "    <tr>\n",
       "      <th>2</th>\n",
       "      <td>320</td>\n",
       "      <td>02:00</td>\n",
       "      <td>Saturday</td>\n",
       "      <td>YONGE AND STEELES</td>\n",
       "      <td>Operations - Operator</td>\n",
       "      <td>17</td>\n",
       "      <td>20</td>\n",
       "      <td>0</td>\n",
       "      <td>2022</td>\n",
       "      <td>1</td>\n",
       "      <td>1</td>\n",
       "    </tr>\n",
       "    <tr>\n",
       "      <th>3</th>\n",
       "      <td>320</td>\n",
       "      <td>02:07</td>\n",
       "      <td>Saturday</td>\n",
       "      <td>YONGE AND STEELES</td>\n",
       "      <td>Operations - Operator</td>\n",
       "      <td>4</td>\n",
       "      <td>11</td>\n",
       "      <td>0</td>\n",
       "      <td>2022</td>\n",
       "      <td>1</td>\n",
       "      <td>1</td>\n",
       "    </tr>\n",
       "    <tr>\n",
       "      <th>4</th>\n",
       "      <td>320</td>\n",
       "      <td>02:13</td>\n",
       "      <td>Saturday</td>\n",
       "      <td>YONGE AND STEELES</td>\n",
       "      <td>Operations - Operator</td>\n",
       "      <td>4</td>\n",
       "      <td>8</td>\n",
       "      <td>0</td>\n",
       "      <td>2022</td>\n",
       "      <td>1</td>\n",
       "      <td>1</td>\n",
       "    </tr>\n",
       "    <tr>\n",
       "      <th>...</th>\n",
       "      <td>...</td>\n",
       "      <td>...</td>\n",
       "      <td>...</td>\n",
       "      <td>...</td>\n",
       "      <td>...</td>\n",
       "      <td>...</td>\n",
       "      <td>...</td>\n",
       "      <td>...</td>\n",
       "      <td>...</td>\n",
       "      <td>...</td>\n",
       "      <td>...</td>\n",
       "    </tr>\n",
       "    <tr>\n",
       "      <th>27346</th>\n",
       "      <td>123</td>\n",
       "      <td>00:45</td>\n",
       "      <td>Thursday</td>\n",
       "      <td>SHERWAY GARDENS RD</td>\n",
       "      <td>Operations - Operator</td>\n",
       "      <td>27</td>\n",
       "      <td>54</td>\n",
       "      <td>8088</td>\n",
       "      <td>2022</td>\n",
       "      <td>6</td>\n",
       "      <td>30</td>\n",
       "    </tr>\n",
       "    <tr>\n",
       "      <th>27347</th>\n",
       "      <td>102</td>\n",
       "      <td>01:08</td>\n",
       "      <td>Thursday</td>\n",
       "      <td>WARDEN AND DANFORTH</td>\n",
       "      <td>Operations - Operator</td>\n",
       "      <td>30</td>\n",
       "      <td>60</td>\n",
       "      <td>3416</td>\n",
       "      <td>2022</td>\n",
       "      <td>6</td>\n",
       "      <td>30</td>\n",
       "    </tr>\n",
       "    <tr>\n",
       "      <th>27348</th>\n",
       "      <td>66</td>\n",
       "      <td>01:15</td>\n",
       "      <td>Thursday</td>\n",
       "      <td>UNKNOWN</td>\n",
       "      <td>Operations - Operator</td>\n",
       "      <td>30</td>\n",
       "      <td>30</td>\n",
       "      <td>0</td>\n",
       "      <td>2022</td>\n",
       "      <td>6</td>\n",
       "      <td>30</td>\n",
       "    </tr>\n",
       "    <tr>\n",
       "      <th>27349</th>\n",
       "      <td>32</td>\n",
       "      <td>01:33</td>\n",
       "      <td>Thursday</td>\n",
       "      <td>RENFORTH STATION</td>\n",
       "      <td>Cleaning - Unsanitary</td>\n",
       "      <td>18</td>\n",
       "      <td>36</td>\n",
       "      <td>1202</td>\n",
       "      <td>2022</td>\n",
       "      <td>6</td>\n",
       "      <td>30</td>\n",
       "    </tr>\n",
       "    <tr>\n",
       "      <th>27350</th>\n",
       "      <td>32</td>\n",
       "      <td>01:55</td>\n",
       "      <td>Thursday</td>\n",
       "      <td>EGLINTON AND DUPLEX</td>\n",
       "      <td>Cleaning - Unsanitary</td>\n",
       "      <td>8</td>\n",
       "      <td>16</td>\n",
       "      <td>1265</td>\n",
       "      <td>2022</td>\n",
       "      <td>6</td>\n",
       "      <td>30</td>\n",
       "    </tr>\n",
       "  </tbody>\n",
       "</table>\n",
       "<p>27187 rows × 11 columns</p>\n",
       "</div>"
      ],
      "text/plain": [
       "      Route   Time       Day                Location               Incident  \\\n",
       "0       320  02:00  Saturday        YONGE AND DUNDAS          General Delay   \n",
       "1       325  02:00  Saturday  OVERLEA AND THORCLIFFE              Diversion   \n",
       "2       320  02:00  Saturday       YONGE AND STEELES  Operations - Operator   \n",
       "3       320  02:07  Saturday       YONGE AND STEELES  Operations - Operator   \n",
       "4       320  02:13  Saturday       YONGE AND STEELES  Operations - Operator   \n",
       "...     ...    ...       ...                     ...                    ...   \n",
       "27346   123  00:45  Thursday      SHERWAY GARDENS RD  Operations - Operator   \n",
       "27347   102  01:08  Thursday     WARDEN AND DANFORTH  Operations - Operator   \n",
       "27348    66  01:15  Thursday                 UNKNOWN  Operations - Operator   \n",
       "27349    32  01:33  Thursday        RENFORTH STATION  Cleaning - Unsanitary   \n",
       "27350    32  01:55  Thursday     EGLINTON AND DUPLEX  Cleaning - Unsanitary   \n",
       "\n",
       "       Min Delay  Min Gap  Vehicle  year  month  dates  \n",
       "0              0        0     8531  2022      1      1  \n",
       "1            131      161     8658  2022      1      1  \n",
       "2             17       20        0  2022      1      1  \n",
       "3              4       11        0  2022      1      1  \n",
       "4              4        8        0  2022      1      1  \n",
       "...          ...      ...      ...   ...    ...    ...  \n",
       "27346         27       54     8088  2022      6     30  \n",
       "27347         30       60     3416  2022      6     30  \n",
       "27348         30       30        0  2022      6     30  \n",
       "27349         18       36     1202  2022      6     30  \n",
       "27350          8       16     1265  2022      6     30  \n",
       "\n",
       "[27187 rows x 11 columns]"
      ]
     },
     "execution_count": 13,
     "metadata": {},
     "output_type": "execute_result"
    }
   ],
   "source": [
    "df.drop([\"Date\", \"date\"], axis=1, inplace=True)\n",
    "df"
   ]
  },
  {
   "cell_type": "markdown",
   "id": "f55e6bdf",
   "metadata": {},
   "source": [
    "### All set! let's get some visualizations from the TTC data on the following Questions:\n",
    "\n",
    "1. Which incidents caused maximum and minimum delays?\n",
    "2. Which route consists most of the delays?\n",
    "3. Which month has the most of the delays?\n",
    "\n",
    "\n",
    "\n"
   ]
  },
  {
   "cell_type": "markdown",
   "id": "11d0bd77",
   "metadata": {},
   "source": [
    "1.Which incidents caused maximum and minimum delays?"
   ]
  },
  {
   "cell_type": "code",
   "execution_count": 14,
   "id": "2c403c76",
   "metadata": {},
   "outputs": [
    {
     "data": {
      "image/png": "[encoded data removed]",
      "text/plain": [
       "<Figure size 1500x800 with 1 Axes>"
      ]
     },
     "metadata": {},
     "output_type": "display_data"
    }
   ],
   "source": [
    "plt.figure(figsize=(15,8))\n",
    "ttc_incident_delay = df.groupby('Incident')['Min Delay'].sum().reset_index().sort_values(\"Min Delay\",ascending=False)\n",
    "sns.barplot(x='Incident',y='Min Delay',data=ttc_incident_delay)\n",
    "plt.xticks(rotation=90, size=12)\n",
    "plt.savefig('incident vs Min delay.png')\n",
    "plt.show()"
   ]
  },
  {
   "cell_type": "markdown",
   "id": "a5d2561a",
   "metadata": {},
   "source": [
    "It seems \"Divesion\" caused the most delays throughout the data and \"Operations - Operators\" and \"Mechanical\" incidents are top 2nd and 3rd. \"Gemeral Delay\" is the 4th in causes of delay. Meanwhile, other incidents remain fairly low."
   ]
  },
  {
   "cell_type": "markdown",
   "id": "a970d9d9",
   "metadata": {},
   "source": [
    "2.Which route consists most of the delays?"
   ]
  },
  {
   "cell_type": "code",
   "execution_count": 15,
   "id": "1d993ac9",
   "metadata": {},
   "outputs": [
    {
     "data": {
      "image/png": "[encoded data removed]",
      "text/plain": [
       "<Figure size 1500x800 with 1 Axes>"
      ]
     },
     "metadata": {},
     "output_type": "display_data"
    }
   ],
   "source": [
    "plt.figure(figsize=(15,8))\n",
    "ttc_route_delay = df.groupby('Route')['Min Delay'].sum().reset_index().sort_values(\"Min Delay\",ascending=False).head(10)\n",
    "sns.barplot(x='Route',y='Min Delay',data=ttc_route_delay)\n",
    "plt.xticks(rotation=90, size=12)\n",
    "plt.savefig('Route_vs_Min_Delay.png')\n",
    "plt.show()"
   ]
  },
  {
   "cell_type": "markdown",
   "id": "61acfe9e",
   "metadata": {},
   "source": [
    "It may seem that Route 52, 36, 32 consists of maximum amount of delay. hence the bus following to those routes will face some delays."
   ]
  },
  {
   "cell_type": "markdown",
   "id": "e7596c1d",
   "metadata": {},
   "source": [
    "3.Which month has the most of the delays?"
   ]
  },
  {
   "cell_type": "code",
   "execution_count": 16,
   "id": "a76cfa74",
   "metadata": {},
   "outputs": [
    {
     "data": {
      "image/png": "[encoded data removed]",
      "text/plain": [
       "<Figure size 1000x500 with 1 Axes>"
      ]
     },
     "metadata": {},
     "output_type": "display_data"
    }
   ],
   "source": [
    "plt.figure(figsize=(10,5))\n",
    "ttc_month_delay = df.groupby('month')['Min Delay'].sum().reset_index().sort_values(\"Min Delay\")\n",
    "sns.barplot(x='month',y='Min Delay', data=ttc_month_delay)\n",
    "plt.xticks(rotation=90, size=12)\n",
    "plt.savefig('Month vs Min Delay.jpg')\n",
    "plt.show()"
   ]
  },
  {
   "cell_type": "code",
   "execution_count": 17,
   "id": "45b333bb",
   "metadata": {},
   "outputs": [
    {
     "data": {
      "image/png": "[encoded data removed]",
      "text/plain": [
       "<Figure size 1000x500 with 1 Axes>"
      ]
     },
     "metadata": {},
     "output_type": "display_data"
    }
   ],
   "source": [
    "plt.figure(figsize=(10,5))\n",
    "ttc_month_delay = df.groupby('Day')['Min Delay'].sum().reset_index().sort_values(\"Min Delay\",ascending=False)\n",
    "sns.barplot(x='Day',y='Min Delay',data=ttc_month_delay)\n",
    "plt.xticks(rotation=90, size=12)\n",
    "plt.savefig('Day vs Min Delay.jpg')\n",
    "plt.show()"
   ]
  },
  {
   "cell_type": "markdown",
   "id": "0f57b594",
   "metadata": {},
   "source": [
    "We can clearly see that in the winter, January and february the delays are at the peak. afterwards, with seasonal change delays drops down. Furthermore, weekdays such as Wednesday, friday and thursday had most of the delays."
   ]
  },
  {
   "cell_type": "markdown",
   "id": "f1217ad6",
   "metadata": {},
   "source": [
    "Now lets check on which session the delays were more."
   ]
  },
  {
   "cell_type": "code",
   "execution_count": 18,
   "id": "ce5a76aa",
   "metadata": {},
   "outputs": [
    {
     "data": {
      "text/plain": [
       "0       2023-01-19 02:00:00\n",
       "1       2023-01-19 02:00:00\n",
       "2       2023-01-19 02:00:00\n",
       "3       2023-01-19 02:07:00\n",
       "4       2023-01-19 02:13:00\n",
       "                ...        \n",
       "27346   2023-01-19 00:45:00\n",
       "27347   2023-01-19 01:08:00\n",
       "27348   2023-01-19 01:15:00\n",
       "27349   2023-01-19 01:33:00\n",
       "27350   2023-01-19 01:55:00\n",
       "Name: Session, Length: 27187, dtype: datetime64[ns]"
      ]
     },
     "execution_count": 18,
     "metadata": {},
     "output_type": "execute_result"
    }
   ],
   "source": [
    "df['Session'] = pd.to_datetime(df['Time'], errors='coerce')\n",
    "df.Session"
   ]
  },
  {
   "cell_type": "code",
   "execution_count": 19,
   "id": "ab0eac2d",
   "metadata": {},
   "outputs": [
    {
     "data": {
      "text/plain": [
       "<AxesSubplot:>"
      ]
     },
     "execution_count": 19,
     "metadata": {},
     "output_type": "execute_result"
    },
    {
     "data": {
      "image/png": "[encoded data removed]",
      "text/plain": [
       "<Figure size 640x480 with 1 Axes>"
      ]
     },
     "metadata": {},
     "output_type": "display_data"
    }
   ],
   "source": [
    "session=pd.cut(df.Session.dt.hour,\n",
    "               [0,6,12,18,23],\n",
    "               labels=['Night','Morning','Afternoon','Evening'],\n",
    "               include_lowest=True)\n",
    "\n",
    "\n",
    "session.value_counts().plot.bar()"
   ]
  },
  {
   "cell_type": "code",
   "execution_count": 20,
   "id": "27171748",
   "metadata": {},
   "outputs": [
    {
     "data": {
      "text/plain": [
       "0        Night\n",
       "1        Night\n",
       "2        Night\n",
       "3        Night\n",
       "4        Night\n",
       "         ...  \n",
       "27346    Night\n",
       "27347    Night\n",
       "27348    Night\n",
       "27349    Night\n",
       "27350    Night\n",
       "Name: Session, Length: 27187, dtype: category\n",
       "Categories (4, object): ['Night' < 'Morning' < 'Afternoon' < 'Evening']"
      ]
     },
     "execution_count": 20,
     "metadata": {},
     "output_type": "execute_result"
    }
   ],
   "source": [
    "df.Session = session\n",
    "df.Session"
   ]
  },
  {
   "cell_type": "code",
   "execution_count": 39,
   "id": "5df3727d",
   "metadata": {},
   "outputs": [
    {
     "data": {
      "image/png": "[encoded data removed]",
      "text/plain": [
       "<Figure size 1000x500 with 1 Axes>"
      ]
     },
     "metadata": {},
     "output_type": "display_data"
    }
   ],
   "source": [
    "plt.figure(figsize=(10,5))\n",
    "colors = sns.color_palette('pastel')[0:5]\n",
    "myexplode = [0.2, 0, 0, 0]\n",
    "ttc_Session_delay = df.groupby('Session')['Min Delay'].sum().reset_index().sort_values(\"Min Delay\",ascending=False)\n",
    "plt.pie(ttc_Session_delay['Min Delay'], labels=ttc_Session_delay['Session'], colors = colors, \n",
    "        autopct='%0.2f', shadow=True,explode = myexplode)\n",
    "plt.xticks(rotation=90, size=12)\n",
    "plt.legend(bbox_to_anchor=(1.3, 1),loc='upper right',title = \"Sessions\")\n",
    "plt.savefig('Session vs Min Delay.jpg')\n",
    "plt.show()"
   ]
  },
  {
   "cell_type": "markdown",
   "id": "1ab173a1",
   "metadata": {},
   "source": [
    "It seems that throught the data ttc bus had maximum delays on afternoon and morning while evening and night delays remaine equal."
   ]
  }
 ],
 "metadata": {
  "kernelspec": {
   "display_name": "Python 3 (ipykernel)",
   "language": "python",
   "name": "python3"
  },
  "language_info": {
   "codemirror_mode": {
    "name": "ipython",
    "version": 3
   },
   "file_extension": ".py",
   "mimetype": "text/x-python",
   "name": "python",
   "nbconvert_exporter": "python",
   "pygments_lexer": "ipython3",
   "version": "3.8.13"
  }
 },
 "nbformat": 4,
 "nbformat_minor": 5
}
